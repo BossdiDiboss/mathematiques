{
  "cells": [
    {
      "cell_type": "markdown",
      "metadata": {},
      "source": [
        "# Mathématiques Essentielles: Tout pour la 6e\n",
        "\n",
        "![](Mathematiques.png){width=800px height=360px}\n",
        "\n",
        "[Voir le PDF du cours](https://github.com/BossdiDiboss/mathematiques/blob/main/classes/6eme/Tout_pour_la_6ème.pdf)\n",
        "\n",
        "Voici un exemple de tableau en LaTeX :\n",
        "\n",
        "\n",
        "\n",
        "\n",
        "```{Latex}\n",
        "\\begin{tabular}{|c|c|}\n",
        "\\hline\n",
        "Nom & Âge \\\\\n",
        "\\hline\n",
        "Alice & 30 \\\\\n",
        "Bob & 25 \\\\\n",
        "\\hline\n",
        "\\end{tabular}\n",
        "```"
      ],
      "id": "fcc32cef"
    }
  ],
  "metadata": {
    "kernelspec": {
      "display_name": "Python 3",
      "language": "python",
      "name": "python3"
    }
  },
  "nbformat": 4,
  "nbformat_minor": 5
}